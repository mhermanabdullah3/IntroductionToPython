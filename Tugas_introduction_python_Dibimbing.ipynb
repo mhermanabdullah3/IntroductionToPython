{
  "cells": [
    {
      "cell_type": "markdown",
      "id": "39bf7b14",
      "metadata": {
        "id": "39bf7b14"
      },
      "source": [
        "## Buatlah sebuah program yang:\n",
        "\n",
        "   1. Meminta input dari pengguna:\n",
        "\n",
        "       - Nama mahasiswa\n",
        "\n",
        "       - NIM mahasiswa\n",
        "\n",
        "       - Nilai ujian (dalam angka, 0–100)\n",
        "\n",
        "   2. Cek dan tampilkan tipe data dari setiap input.\n",
        "\n",
        "   3. Gunakan if-elif-else untuk menentukan kategori nilai, dengan kriteria sebagai berikut:\n",
        "   \n",
        "```\n",
        "Nilai | Kategori\n",
        "85 - 100 | A (Sangat Baik)\n",
        "75 - 84 | B (Baik)\n",
        "60 - 74 | C (Cukup)\n",
        "40 - 59 | D (Kurang)\n",
        "< 40 | E (Sangat Kurang)\n",
        "```\n",
        "\n",
        "```\n",
        "==== Ekspektasi Output Jawaban : =====\n",
        "Masukkan nama mahasiswa: Sarah\n",
        "Masukkan NIM: 12345678\n",
        "Masukkan nilai ujian (0-100): 81\n",
        "\n",
        "Nama: Sarah (type: <class 'str'>)\n",
        "NIM: 12345678 (type: <class 'str'>)\n",
        "Nilai: 81 (type: <class 'int'>)\n",
        "\n",
        "Hasil Evaluasi:\n",
        "Mahasiswa: Sarah (NIM: 12345678)\n",
        "Nilai Ujian: 81\n",
        "Kategori Nilai: B (Baik)\n",
        "```"
      ]
    },
    {
      "cell_type": "markdown",
      "source": [
        "#Program Dengan Variabel\n",
        "Ini merupakan program dimana nama, nim, dan nilai ujian sudah tertulis menjadi suatu variabel yang dimana itu akan dijadikan verifikasi jika pada input tidak sesuai dengan variabel maka akan terjadi kesalahan"
      ],
      "metadata": {
        "id": "JXUGh3t82FBm"
      },
      "id": "JXUGh3t82FBm"
    },
    {
      "cell_type": "code",
      "source": [
        "# Data mahasiswa lengkap\n",
        "daftar_nama = {\n",
        "    'sarah': {'nim': '12345678', 'nilai': 80},  #penggunaan {} untuk membuat dictionary yang dimana sarah sebagai kunci utama nim dan seterusnya sebagai nilai dari kunci utama\n",
        "    'joko': {'nim': '24681012', 'nilai': 75},\n",
        "    'jarwo': {'nim': '1357911',  'nilai': 60},\n",
        "    'adit': {'nim': '11223344', 'nilai': 45}\n",
        "}\n",
        "\n",
        "# Input data\n",
        "x = input('Masukkan nama mahasiswa: ').lower() #fungsi .lower  untuk mengenali huruf kecil maupun besar agar sesuai dengan data\n",
        "y = input('Masukkan NIM: ')\n",
        "z = int(input('Masukkan nilai ujian (0-100): ')) #int digunakan karena inputnya berupa angka\n",
        "\n",
        "# Verifikasi nama, NIM, dan nilai\n",
        "if (\n",
        "    x in daftar_nama and\n",
        "    y == daftar_nama[x]['nim'] and\n",
        "    z == daftar_nama[x]['nilai']\n",
        "):\n",
        "    # Tampilkan tipe data\n",
        "    print(f\"\\nNama: {x} (type: {type(x)})\") #\\n untuk melakukan spasi atau jarak antar output\n",
        "    print(f\"NIM: {y} (type: {type(y)})\")\n",
        "    print(f\"Nilai: {z} (type: {type(z)})\")\n",
        "\n",
        "    # Kategori nilai\n",
        "    if 85 <= z <= 100:\n",
        "        kategori = \"A (Sangat Baik)\"\n",
        "    elif 75 <= z <= 84:\n",
        "        kategori = \"B (Baik)\"\n",
        "    elif 60 <= z <= 74:\n",
        "        kategori = \"C (Cukup)\"\n",
        "    elif 40 <= z <= 59:\n",
        "        kategori = \"D (Kurang)\"\n",
        "    else:\n",
        "        kategori = \"E (Sangat Kurang)\"\n",
        "\n",
        "    # Hasil evaluasi\n",
        "    print(\"\\n✅ Hasil Evaluasi:\")\n",
        "    print(f\"Mahasiswa: {x.title()} (NIM: {y})\") #tittle() digunakan untuk menghasilkan output dengan huruf pertama tiap kata akan kapital\n",
        "    print(f\"Nilai Ujian: {z}\")\n",
        "    print(f\"Kategori Nilai: {kategori}\")\n",
        "else:\n",
        "    print(\"\\n❌ Nama, NIM, atau Nilai tidak cocok. Data tidak diproses.\")\n"
      ],
      "metadata": {
        "colab": {
          "base_uri": "https://localhost:8080/"
        },
        "id": "C4hcgCL61l8O",
        "outputId": "9cf0cf87-e671-4430-f2e9-08cb70938ecd"
      },
      "id": "C4hcgCL61l8O",
      "execution_count": null,
      "outputs": [
        {
          "output_type": "stream",
          "name": "stdout",
          "text": [
            "Masukkan nama mahasiswa: Sarah\n",
            "Masukkan NIM: 12345678\n",
            "Masukkan nilai ujian (0-100): 80\n",
            "\n",
            "Nama: sarah (type: <class 'str'>)\n",
            "NIM: 12345678 (type: <class 'str'>)\n",
            "Nilai: 80 (type: <class 'int'>)\n",
            "\n",
            "✅ Hasil Evaluasi:\n",
            "Mahasiswa: sarah (NIM: 12345678)\n",
            "Nilai Ujian: 80\n",
            "Kategori Nilai: B (Baik)\n"
          ]
        }
      ]
    },
    {
      "cell_type": "markdown",
      "source": [
        "# Program Tanpa Variabel\n",
        "Ini merupakan sebuah program dimana kita menginput terlebih dahulu tanpa adanya daftar nama mahasiswa yang tertera pada program kita"
      ],
      "metadata": {
        "id": "ll6trCBV10DB"
      },
      "id": "ll6trCBV10DB"
    },
    {
      "cell_type": "code",
      "source": [
        "# Input data\n",
        "x = input('Masukkan nama mahasiswa: ')\n",
        "y = int(input('Masukkan NIM: '))\n",
        "z = float(input('Masukkan nilai ujian (0-100): ')) #int digunakan karena inputnya berupa angka\n",
        "\n",
        "# Verifikasi nama, NIM, dan nilai\n",
        "if isinstance(x, str) and isinstance(y, int) and isinstance(z, (int, float)): #isintance digunakan untuk pengecekan tipe data\n",
        "    # Tampilkan tipe data\n",
        "    print(f\"\\nNama: {x} (type: {type(x)})\") #\\n untuk melakukan spasi atau jarak antar output\n",
        "    print(f\"NIM: {y} (type: {type(y)})\")\n",
        "    print(f\"Nilai: {z} (type: {type(z)})\")\n",
        "\n",
        "    # Kategori nilai\n",
        "    if 85.0 <= z <= 100:\n",
        "        kategori = \"A (Sangat Baik)\"\n",
        "    elif 75.0 <= z <= 84.0:\n",
        "        kategori = \"B (Baik)\"\n",
        "    elif 60.0 <= z <= 74.0:\n",
        "        kategori = \"C (Cukup)\"\n",
        "    elif 40.0 <= z <= 59.0:\n",
        "        kategori = \"D (Kurang)\"\n",
        "    else:\n",
        "        kategori = \"E (Sangat Kurang)\"\n",
        "\n",
        "    # Hasil evaluasi\n",
        "    print(\"\\n✅ Hasil Evaluasi:\")\n",
        "    print(f\"Mahasiswa: {x.title()} (NIM: {y})\") #tittle() digunakan untuk menghasilkan output dengan huruf pertama tiap kata akan kapital\n",
        "    print(f\"Nilai Ujian: {z}\")\n",
        "    print(f\"Kategori Nilai: {kategori}\")\n",
        "else:\n",
        "    print(\"\\n❌ Nama, NIM, atau Nilai tidak cocok. Data tidak diproses.\")"
      ],
      "metadata": {
        "colab": {
          "base_uri": "https://localhost:8080/"
        },
        "id": "HDL0i1xjyr4K",
        "outputId": "92bc3748-b0c8-4791-bcc6-57e82d135e1d"
      },
      "id": "HDL0i1xjyr4K",
      "execution_count": 27,
      "outputs": [
        {
          "output_type": "stream",
          "name": "stdout",
          "text": [
            "Masukkan nama mahasiswa: herman\n",
            "Masukkan NIM: 2132313\n",
            "Masukkan nilai ujian (0-100): 81.2\n",
            "\n",
            "Nama: herman (type: <class 'str'>)\n",
            "NIM: 2132313 (type: <class 'int'>)\n",
            "Nilai: 81.2 (type: <class 'float'>)\n",
            "\n",
            "✅ Hasil Evaluasi:\n",
            "Mahasiswa: Herman (NIM: 2132313)\n",
            "Nilai Ujian: 81.2\n",
            "Kategori Nilai: B (Baik)\n"
          ]
        }
      ]
    }
  ],
  "metadata": {
    "kernelspec": {
      "display_name": "Python 3 (ipykernel)",
      "language": "python",
      "name": "python3"
    },
    "language_info": {
      "codemirror_mode": {
        "name": "ipython",
        "version": 3
      },
      "file_extension": ".py",
      "mimetype": "text/x-python",
      "name": "python",
      "nbconvert_exporter": "python",
      "pygments_lexer": "ipython3",
      "version": "3.11.4"
    },
    "colab": {
      "provenance": []
    }
  },
  "nbformat": 4,
  "nbformat_minor": 5
}